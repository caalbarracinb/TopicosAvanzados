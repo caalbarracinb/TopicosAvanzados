{
 "cells": [
  {
   "cell_type": "markdown",
   "metadata": {},
   "source": [
    "# Algoritmos de descenso del gradiente como una aproximación a la regresión lineal"
   ]
  },
  {
   "cell_type": "markdown",
   "metadata": {},
   "source": [
    "## 1. Introducción"
   ]
  },
  {
   "cell_type": "markdown",
   "metadata": {},
   "source": [
    "<div style=\"text-align: justify\">\n",
    "Por lo general, los investigadores tratan de explicar fenomenos, de distintas naturalezas y en todas las ramas del conocimiento, a partir de la relación que puede existir entre las variables de estudio. Una de las herramientas para caracterizar dichas relaciones es la Regresión Lineal la cual, como indica su nombre, permite predecir el comportamiento de una variable dependiente (denotada usualmente como Y) a partir de la relación lineal de esta con unas variables independientes (denotadas usualmente como X). Particularmente la Regresión Lineal Simple permite comprender el funcionamiento de esta herramienta de manera visual (Wooldridge, 2017), pues al existir solo una variable independiente para explicar la variable dependiente, se puede gráficar fácilmente en un plano bidimensional .<p></p><p></p>\n",
    "    Este ensayo inicia con una breve historia sobre la apariciónla Regresión Lineal; posteriormente se presenta el algoritmo de descenso del gradiente como una aproximación al problema de Regresión Lineal, así como una aplicación de este para entender la relación entre el rendimiento académico en la secundaria sobre el rendimiento académico en la universidad; finalmente, se presentan las conclusiones del trabajo.\n",
    "</div>"
   ]
  },
  {
   "cell_type": "markdown",
   "metadata": {},
   "source": [
    "## 2. Historia"
   ]
  },
  {
   "cell_type": "markdown",
   "metadata": {},
   "source": [
    "<div style=\"text-align: justify\">\n",
    "    La primera persona en acuñar el término regresión dentro de un contexto estadístico (pues ya era utilizado en otras disciplinas como la psicología y la filosofía) fue Francis Galton en 1889. En el artículo que publicó, trató de demostrar que las características de un individuo son heredadas a sus descendencia, pero siempre en un menor grado. Por ejemplo, que los individuos con padres altos también son altos, pero en menor medida que sus antecesores. Posteriormente, su discípulo Karl Pearson comprobó que de manera opuesta los individuos con padres de menor estatura solían ser más altos que sus padres, concluyendo en conjunto que la altura tendía a 'regresar hacia la mediocridad', es decir, se seguían aproximando a la media poblacional. Así se visualizó el uso de la Regresión Lineal por primera vez:   \n",
    "</div>"
   ]
  },
  {
   "cell_type": "markdown",
   "metadata": {},
   "source": [
    "<center><img src='Imagenes/Galton89.png'></center>"
   ]
  },
  {
   "cell_type": "markdown",
   "metadata": {},
   "source": [
    "<div style=\"text-align: justify\">\n",
    "    En esta gráfica, la línea punteada representa la linea de igualdad entre la media de la altura de los padres y los hijos, mientras que la linea continua es la regresión realizada por Galton, que muestra justamente la comprobación de su hipótesis. Sin embargo, para estimar la linea continúa, el método de optimización de mínimos cuadrados fue desarrollado mucho antes por Legrande en 1805 y Gauss en 1809. [Mínimos cuadrados](https://es.wikipedia.org/wiki/M%C3%ADnimos_cuadrados#Historia)\n",
    "</div>"
   ]
  },
  {
   "cell_type": "markdown",
   "metadata": {},
   "source": [
    "## 3. Algoritmo de descenso del gradiente"
   ]
  },
  {
   "cell_type": "markdown",
   "metadata": {},
   "source": [
    "<div style=\"text-align: justify\">El algoritmo de descenso del gradiente permite la convergencia hacia un óptimo local por medio de un proceso de ajuste iterativo. La función que se quiere optimizar es el Error Cuadrático Medio, o en otras palabras, la distancia entre los valores reales y los predecidos por medio de la regresión.</div>"
   ]
  },
  {
   "cell_type": "markdown",
   "metadata": {},
   "source": [
    "$$E = \\frac{1}{n}\\sum^n_{i=0}(y_i-\\hat{y}_i)$$<p></p>\n",
    "$$E = \\frac{1}{n}\\sum^n_{i=0}(y_i-mx_i+c)$$<p></p>"
   ]
  },
  {
   "cell_type": "markdown",
   "metadata": {},
   "source": [
    "<div style=\"text-align: justify\">Como se puede observar, dentro de la función existen dos parámetros para minimizarla, estos son c y m, que serían el intercepto y la pendiente, respectivamente. Para optimizar la función se deven hallar las derivadas parciales respecto a cada uno de ellos.</div>"
   ]
  },
  {
   "cell_type": "markdown",
   "metadata": {},
   "source": [
    "$$D_m = \\frac{-2}{n}\\sum^n_{i=0}x_i(y_i-(mx_i+c))$$<p></p>\n",
    "$$D_c = \\frac{-2}{n}\\sum^n_{i=0}-2(y_i-(mx_i+c))$$<p></p>"
   ]
  },
  {
   "cell_type": "markdown",
   "metadata": {},
   "source": [
    "<div style=\"text-align: justify\">Posteriormente, se ajustan los valores iniciales de c y m en función al valor del gradiente (las derivadas parciales) y la tasa de aprendizaje.\n",
    "$$m=m-L\\times D_m$$\n",
    "$$c=c-L\\times D_c$$\n",
    "El proceso se repite hasta minimizar la función de pérdida de acuerdo a un parámetro establecido, idealmente 0, resultado los ultimos valores de c y m los que óptimos. Si el proceso no converge a un óptimo, el investigador puede establecer un número máximo de repeticiones para acabar el proceso.</div>"
   ]
  },
  {
   "cell_type": "markdown",
   "metadata": {},
   "source": [
    "## 4. Ejemplo: GPA Universidad vs GPA Secundaria"
   ]
  },
  {
   "cell_type": "markdown",
   "metadata": {},
   "source": [
    "<div style=\"text-align: justify\">Los datos para la aplicación son tomados del set de datos de Wooldridge, la base de datos gpa1 contiene información de 141 estudiantes de la Michigan State University (MSU), la encuesta incluyó información sobre variables socio-económicas de los estudiantes así como sus promedios académicos en la universidad y en la universidad. Christopher Lemmon recolectó estos datos en otoño de 1994. La intención de este ejercicio es evaluar si existe una relación entre el rendimiento académico de los estudiantes en la secundaria y su desempeño en la universidad, es decir, se quiere saber si ser aplicado en el colegio tiene un impacto en el ambito académico universitario.</div>"
   ]
  },
  {
   "cell_type": "code",
   "execution_count": 6,
   "metadata": {},
   "outputs": [
    {
     "data": {
      "text/plain": [
       "(141, 29)"
      ]
     },
     "execution_count": 6,
     "metadata": {},
     "output_type": "execute_result"
    }
   ],
   "source": [
    "# Imports necesarios\n",
    "import numpy as np\n",
    "import pandas as pd\n",
    "import seaborn as sb\n",
    "import matplotlib.pyplot as plt\n",
    "%matplotlib inline\n",
    "from mpl_toolkits.mplot3d import Axes3D\n",
    "from matplotlib import cm\n",
    "plt.rcParams['figure.figsize'] = (16, 9)\n",
    "plt.style.use('ggplot')\n",
    "from sklearn import linear_model\n",
    "from sklearn.metrics import mean_squared_error, r2_score\n",
    "#Cargar los datos del GPA del colegio y del GPA de la universidad (Wooldridge)\n",
    "data = pd.read_excel(\"gpa.xlsx\")\n",
    "data.shape"
   ]
  },
  {
   "cell_type": "code",
   "execution_count": 7,
   "metadata": {},
   "outputs": [
    {
     "data": {
      "text/html": [
       "<div>\n",
       "<style scoped>\n",
       "    .dataframe tbody tr th:only-of-type {\n",
       "        vertical-align: middle;\n",
       "    }\n",
       "\n",
       "    .dataframe tbody tr th {\n",
       "        vertical-align: top;\n",
       "    }\n",
       "\n",
       "    .dataframe thead th {\n",
       "        text-align: right;\n",
       "    }\n",
       "</style>\n",
       "<table border=\"1\" class=\"dataframe\">\n",
       "  <thead>\n",
       "    <tr style=\"text-align: right;\">\n",
       "      <th></th>\n",
       "      <th>age</th>\n",
       "      <th>soph</th>\n",
       "      <th>junior</th>\n",
       "      <th>senior</th>\n",
       "      <th>senior5</th>\n",
       "      <th>male</th>\n",
       "      <th>campus</th>\n",
       "      <th>business</th>\n",
       "      <th>engineer</th>\n",
       "      <th>colGPA</th>\n",
       "      <th>...</th>\n",
       "      <th>greek</th>\n",
       "      <th>car</th>\n",
       "      <th>siblings</th>\n",
       "      <th>bgfriend</th>\n",
       "      <th>clubs</th>\n",
       "      <th>skipped</th>\n",
       "      <th>alcohol</th>\n",
       "      <th>gradMI</th>\n",
       "      <th>fathcoll</th>\n",
       "      <th>mothcoll</th>\n",
       "    </tr>\n",
       "  </thead>\n",
       "  <tbody>\n",
       "    <tr>\n",
       "      <th>count</th>\n",
       "      <td>141.000000</td>\n",
       "      <td>141.000000</td>\n",
       "      <td>141.000000</td>\n",
       "      <td>141.000000</td>\n",
       "      <td>141.000000</td>\n",
       "      <td>141.000000</td>\n",
       "      <td>141.000000</td>\n",
       "      <td>141.000000</td>\n",
       "      <td>141.000000</td>\n",
       "      <td>141.000000</td>\n",
       "      <td>...</td>\n",
       "      <td>141.000000</td>\n",
       "      <td>141.000000</td>\n",
       "      <td>141.000000</td>\n",
       "      <td>141.000000</td>\n",
       "      <td>141.000000</td>\n",
       "      <td>141.000000</td>\n",
       "      <td>141.000000</td>\n",
       "      <td>141.00000</td>\n",
       "      <td>141.000000</td>\n",
       "      <td>141.000000</td>\n",
       "    </tr>\n",
       "    <tr>\n",
       "      <th>mean</th>\n",
       "      <td>20.886525</td>\n",
       "      <td>0.021277</td>\n",
       "      <td>0.382979</td>\n",
       "      <td>0.503546</td>\n",
       "      <td>0.092199</td>\n",
       "      <td>0.524823</td>\n",
       "      <td>0.170213</td>\n",
       "      <td>0.794326</td>\n",
       "      <td>0.035461</td>\n",
       "      <td>3.056738</td>\n",
       "      <td>...</td>\n",
       "      <td>0.319149</td>\n",
       "      <td>0.773050</td>\n",
       "      <td>0.936170</td>\n",
       "      <td>0.475177</td>\n",
       "      <td>0.602837</td>\n",
       "      <td>1.076241</td>\n",
       "      <td>1.901064</td>\n",
       "      <td>0.87234</td>\n",
       "      <td>0.588652</td>\n",
       "      <td>0.539007</td>\n",
       "    </tr>\n",
       "    <tr>\n",
       "      <th>std</th>\n",
       "      <td>1.271064</td>\n",
       "      <td>0.144819</td>\n",
       "      <td>0.487846</td>\n",
       "      <td>0.501770</td>\n",
       "      <td>0.290337</td>\n",
       "      <td>0.501164</td>\n",
       "      <td>0.377159</td>\n",
       "      <td>0.405634</td>\n",
       "      <td>0.185601</td>\n",
       "      <td>0.372310</td>\n",
       "      <td>...</td>\n",
       "      <td>0.467809</td>\n",
       "      <td>0.420353</td>\n",
       "      <td>0.245321</td>\n",
       "      <td>0.501164</td>\n",
       "      <td>0.491055</td>\n",
       "      <td>1.088882</td>\n",
       "      <td>1.374701</td>\n",
       "      <td>0.33490</td>\n",
       "      <td>0.493832</td>\n",
       "      <td>0.500253</td>\n",
       "    </tr>\n",
       "    <tr>\n",
       "      <th>min</th>\n",
       "      <td>19.000000</td>\n",
       "      <td>0.000000</td>\n",
       "      <td>0.000000</td>\n",
       "      <td>0.000000</td>\n",
       "      <td>0.000000</td>\n",
       "      <td>0.000000</td>\n",
       "      <td>0.000000</td>\n",
       "      <td>0.000000</td>\n",
       "      <td>0.000000</td>\n",
       "      <td>2.200000</td>\n",
       "      <td>...</td>\n",
       "      <td>0.000000</td>\n",
       "      <td>0.000000</td>\n",
       "      <td>0.000000</td>\n",
       "      <td>0.000000</td>\n",
       "      <td>0.000000</td>\n",
       "      <td>0.000000</td>\n",
       "      <td>0.000000</td>\n",
       "      <td>0.00000</td>\n",
       "      <td>0.000000</td>\n",
       "      <td>0.000000</td>\n",
       "    </tr>\n",
       "    <tr>\n",
       "      <th>25%</th>\n",
       "      <td>20.000000</td>\n",
       "      <td>0.000000</td>\n",
       "      <td>0.000000</td>\n",
       "      <td>0.000000</td>\n",
       "      <td>0.000000</td>\n",
       "      <td>0.000000</td>\n",
       "      <td>0.000000</td>\n",
       "      <td>1.000000</td>\n",
       "      <td>0.000000</td>\n",
       "      <td>2.800000</td>\n",
       "      <td>...</td>\n",
       "      <td>0.000000</td>\n",
       "      <td>1.000000</td>\n",
       "      <td>1.000000</td>\n",
       "      <td>0.000000</td>\n",
       "      <td>0.000000</td>\n",
       "      <td>0.000000</td>\n",
       "      <td>1.000000</td>\n",
       "      <td>1.00000</td>\n",
       "      <td>0.000000</td>\n",
       "      <td>0.000000</td>\n",
       "    </tr>\n",
       "    <tr>\n",
       "      <th>50%</th>\n",
       "      <td>21.000000</td>\n",
       "      <td>0.000000</td>\n",
       "      <td>0.000000</td>\n",
       "      <td>1.000000</td>\n",
       "      <td>0.000000</td>\n",
       "      <td>1.000000</td>\n",
       "      <td>0.000000</td>\n",
       "      <td>1.000000</td>\n",
       "      <td>0.000000</td>\n",
       "      <td>3.000000</td>\n",
       "      <td>...</td>\n",
       "      <td>0.000000</td>\n",
       "      <td>1.000000</td>\n",
       "      <td>1.000000</td>\n",
       "      <td>0.000000</td>\n",
       "      <td>1.000000</td>\n",
       "      <td>1.000000</td>\n",
       "      <td>2.000000</td>\n",
       "      <td>1.00000</td>\n",
       "      <td>1.000000</td>\n",
       "      <td>1.000000</td>\n",
       "    </tr>\n",
       "    <tr>\n",
       "      <th>75%</th>\n",
       "      <td>21.000000</td>\n",
       "      <td>0.000000</td>\n",
       "      <td>1.000000</td>\n",
       "      <td>1.000000</td>\n",
       "      <td>0.000000</td>\n",
       "      <td>1.000000</td>\n",
       "      <td>0.000000</td>\n",
       "      <td>1.000000</td>\n",
       "      <td>0.000000</td>\n",
       "      <td>3.300000</td>\n",
       "      <td>...</td>\n",
       "      <td>1.000000</td>\n",
       "      <td>1.000000</td>\n",
       "      <td>1.000000</td>\n",
       "      <td>1.000000</td>\n",
       "      <td>1.000000</td>\n",
       "      <td>2.000000</td>\n",
       "      <td>3.000000</td>\n",
       "      <td>1.00000</td>\n",
       "      <td>1.000000</td>\n",
       "      <td>1.000000</td>\n",
       "    </tr>\n",
       "    <tr>\n",
       "      <th>max</th>\n",
       "      <td>30.000000</td>\n",
       "      <td>1.000000</td>\n",
       "      <td>1.000000</td>\n",
       "      <td>1.000000</td>\n",
       "      <td>1.000000</td>\n",
       "      <td>1.000000</td>\n",
       "      <td>1.000000</td>\n",
       "      <td>1.000000</td>\n",
       "      <td>1.000000</td>\n",
       "      <td>4.000000</td>\n",
       "      <td>...</td>\n",
       "      <td>1.000000</td>\n",
       "      <td>1.000000</td>\n",
       "      <td>1.000000</td>\n",
       "      <td>1.000000</td>\n",
       "      <td>1.000000</td>\n",
       "      <td>5.000000</td>\n",
       "      <td>7.000000</td>\n",
       "      <td>1.00000</td>\n",
       "      <td>1.000000</td>\n",
       "      <td>1.000000</td>\n",
       "    </tr>\n",
       "  </tbody>\n",
       "</table>\n",
       "<p>8 rows × 29 columns</p>\n",
       "</div>"
      ],
      "text/plain": [
       "              age        soph      junior      senior     senior5        male  \\\n",
       "count  141.000000  141.000000  141.000000  141.000000  141.000000  141.000000   \n",
       "mean    20.886525    0.021277    0.382979    0.503546    0.092199    0.524823   \n",
       "std      1.271064    0.144819    0.487846    0.501770    0.290337    0.501164   \n",
       "min     19.000000    0.000000    0.000000    0.000000    0.000000    0.000000   \n",
       "25%     20.000000    0.000000    0.000000    0.000000    0.000000    0.000000   \n",
       "50%     21.000000    0.000000    0.000000    1.000000    0.000000    1.000000   \n",
       "75%     21.000000    0.000000    1.000000    1.000000    0.000000    1.000000   \n",
       "max     30.000000    1.000000    1.000000    1.000000    1.000000    1.000000   \n",
       "\n",
       "           campus    business    engineer      colGPA  ...       greek  \\\n",
       "count  141.000000  141.000000  141.000000  141.000000  ...  141.000000   \n",
       "mean     0.170213    0.794326    0.035461    3.056738  ...    0.319149   \n",
       "std      0.377159    0.405634    0.185601    0.372310  ...    0.467809   \n",
       "min      0.000000    0.000000    0.000000    2.200000  ...    0.000000   \n",
       "25%      0.000000    1.000000    0.000000    2.800000  ...    0.000000   \n",
       "50%      0.000000    1.000000    0.000000    3.000000  ...    0.000000   \n",
       "75%      0.000000    1.000000    0.000000    3.300000  ...    1.000000   \n",
       "max      1.000000    1.000000    1.000000    4.000000  ...    1.000000   \n",
       "\n",
       "              car    siblings    bgfriend       clubs     skipped     alcohol  \\\n",
       "count  141.000000  141.000000  141.000000  141.000000  141.000000  141.000000   \n",
       "mean     0.773050    0.936170    0.475177    0.602837    1.076241    1.901064   \n",
       "std      0.420353    0.245321    0.501164    0.491055    1.088882    1.374701   \n",
       "min      0.000000    0.000000    0.000000    0.000000    0.000000    0.000000   \n",
       "25%      1.000000    1.000000    0.000000    0.000000    0.000000    1.000000   \n",
       "50%      1.000000    1.000000    0.000000    1.000000    1.000000    2.000000   \n",
       "75%      1.000000    1.000000    1.000000    1.000000    2.000000    3.000000   \n",
       "max      1.000000    1.000000    1.000000    1.000000    5.000000    7.000000   \n",
       "\n",
       "          gradMI    fathcoll    mothcoll  \n",
       "count  141.00000  141.000000  141.000000  \n",
       "mean     0.87234    0.588652    0.539007  \n",
       "std      0.33490    0.493832    0.500253  \n",
       "min      0.00000    0.000000    0.000000  \n",
       "25%      1.00000    0.000000    0.000000  \n",
       "50%      1.00000    1.000000    1.000000  \n",
       "75%      1.00000    1.000000    1.000000  \n",
       "max      1.00000    1.000000    1.000000  \n",
       "\n",
       "[8 rows x 29 columns]"
      ]
     },
     "execution_count": 7,
     "metadata": {},
     "output_type": "execute_result"
    }
   ],
   "source": [
    "# Estadísticas descriptivas\n",
    "data.describe()"
   ]
  },
  {
   "cell_type": "code",
   "execution_count": 8,
   "metadata": {},
   "outputs": [
    {
     "name": "stdout",
     "output_type": "stream",
     "text": [
      "Los valores que se obtienen son: 0.8197054401377619 0.24326555980548314 en 2085 iteraciones\n"
     ]
    }
   ],
   "source": [
    "### Extracción de las variable para la regresión \n",
    "Y = data['colGPA']\n",
    "X = data['hsGPA']\n",
    "# Valores iniciales de los parámetros\n",
    "m = 0\n",
    "c = 0\n",
    "\n",
    "L = 0.0001  # Tasa de aprendizaje\n",
    "epochs = 10000  # Número de iteraciones\n",
    "criteria = 1e-5 # Criterio para detener las iteraciones\n",
    "n = float(len(X)) # Number de observaciones\n",
    "\n",
    "# Performing Gradient Descent \n",
    "for i in range(epochs): \n",
    "    Y_pred = m*X + c  # Valor predicho actual\n",
    "    D_m = (-2/n) * sum(X * (Y - Y_pred))  # Gradiente de la pendiente\n",
    "    D_c = (-2/n) * sum(Y - Y_pred)  # Gradiente de la constante\n",
    "    m = m - L * D_m  # Update m\n",
    "    c = c - L * D_c  # Update c\n",
    "    if max(abs(L * D_m), abs(L * D_c)) < criteria:\n",
    "        break\n",
    "# Impresión de los resultados\n",
    "print(\"Los valores que se obtienen son:\", m,c, \"en\",i, \"iteraciones\")\n",
    "Y_opt=Y_pred"
   ]
  },
  {
   "cell_type": "code",
   "execution_count": 9,
   "metadata": {},
   "outputs": [
    {
     "data": {
      "image/png": "[encoded data removed]",
      "text/plain": [
       "<Figure size 1152x648 with 1 Axes>"
      ]
     },
     "metadata": {},
     "output_type": "display_data"
    }
   ],
   "source": [
    "plt.scatter(X, Y, color = \"red\")\n",
    "plt.plot(X, Y_opt, color = \"orange\")\n",
    "plt.legend(('2085 iteraciones',),loc='upper left',facecolor='white', framealpha=0)\n",
    "plt.title(\"GPA Universidad vs GPA Secundaria\")\n",
    "plt.xlabel(\"GPA Universidad\")\n",
    "plt.ylabel(\"GPA Secundaria\")\n",
    "ax = plt.gca()\n",
    "ax.set_facecolor('white')\n",
    "plt.show()"
   ]
  },
  {
   "cell_type": "markdown",
   "metadata": {},
   "source": [
    "<div style=\"text-align: justify\">En este caso, el proceso de ajuste de los gradientes convergió a un óptimo global después de 2.085 iteraciones, siendo la pendiente 0.819 y la constante 0.2432. Esto indica que en promedio y manteniendo todo lo demás constante, por cada décima adicional que se tuviera en el promedio académico de la secundaria se espera 0.819 décimas en el promedio académico de la universidad.</div>"
   ]
  },
  {
   "cell_type": "markdown",
   "metadata": {},
   "source": [
    "## 5. Conclusiones"
   ]
  },
  {
   "cell_type": "markdown",
   "metadata": {},
   "source": [
    "<div style=\"text-align: justify\">\n",
    "    La Regresión Lineal permite obtener la magnitud de la relación lineal que asocia a dos o más variables. Adicionalmente, se presentó la implementación del algoritmo de descenso del gradiente el cuál permite aproximar los resultados que se podrían obtener directamente de la derivación de los estimadores por medio de mínimos cuadrados ordinarios (MCO). Además, hay que señalar que los resultados de la aplicación del descenso del gradiente converge en cierta medida a los resultados obtenidos por MCO cuando hay suficientes iteraciones, el criterio para detener las iteraciones es lo suficientemente pequeño, parametros que son totalmente arbitrarios, pues los escoge quién programa el algoritmo. \n",
    "    </div>"
   ]
  },
  {
   "cell_type": "markdown",
   "metadata": {},
   "source": [
    "## Referencias"
   ]
  },
  {
   "cell_type": "markdown",
   "metadata": {},
   "source": [
    "[Regresión Lineal en Python y R. Machine Learning #01](https://dtellogaete.medium.com/regresión-lineal-en-python-y-r-machine-learning-01-ff9d9077f8f)<p></p>\n",
    "[Implementación del método descenso del gradiente en Python](https://www.analyticslane.com/2018/12/21/implementacion-del-metodo-descenso-del-gradiente-en-python/)<p></p>\n",
    "[Regresión Lineal en español con Python](https://www.aprendemachinelearning.com/regresion-lineal-en-espanol-con-python/)<p></p>\n",
    "[Linear Regression using Gradient Descent](https://towardsdatascience.com/linear-regression-using-gradient-descent-97a6c8700931)<p></p>\n",
    "[Wooldridge Data Sets](http://fmwww.bc.edu/ec-p/data/wooldridge/datasets.list.html)<p></p>\n",
    "[Going back to the origin of regression](https://subscription.packtpub.com/book/big_data_and_business_intelligence/9781788627306/1/ch01lvl1sec10/going-back-to-the-origin-of-regression)<p></p>\n",
    "Wooldridge, J. (2017). Introductory econometrics : a modern approach. (7th Ed.). Mason, Ohio : South-Western Cengage Learning."
   ]
  }
 ],
 "metadata": {
  "kernelspec": {
   "display_name": "Python 3",
   "language": "python",
   "name": "python3"
  },
  "language_info": {
   "codemirror_mode": {
    "name": "ipython",
    "version": 3
   },
   "file_extension": ".py",
   "mimetype": "text/x-python",
   "name": "python",
   "nbconvert_exporter": "python",
   "pygments_lexer": "ipython3",
   "version": "3.8.5"
  }
 },
 "nbformat": 4,
 "nbformat_minor": 4
}
